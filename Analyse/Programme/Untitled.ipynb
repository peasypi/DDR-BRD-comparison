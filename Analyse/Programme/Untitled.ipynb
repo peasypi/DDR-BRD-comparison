{
 "cells": [
  {
   "cell_type": "markdown",
   "metadata": {},
   "source": [
    "# TF-IDF"
   ]
  },
  {
   "cell_type": "markdown",
   "metadata": {},
   "source": [
    "### Imports"
   ]
  },
  {
   "cell_type": "code",
   "execution_count": 71,
   "metadata": {},
   "outputs": [],
   "source": [
    "import spacy\n",
    "import nltk\n",
    "import re"
   ]
  },
  {
   "cell_type": "code",
   "execution_count": 72,
   "metadata": {},
   "outputs": [],
   "source": [
    "txtfile = \"\"\"Komm, Abend komm\n",
    "Und mach mich müd'\n",
    "Zünd' mir den Traum an ...\n",
    "Unterm Lid.\n",
    "Das, was zu tun war ist getan\n",
    "Komm, roter Abend\n",
    "Komm heran\n",
    "Das, was zu tun war ist getan\n",
    "Komm, roter Abend\n",
    "Komm heran\n",
    "Fahr'n\n",
    "fahr´n\n",
    "Und von dem Tag bleibt eine Glut\n",
    "Bleibt auf der Stirne unterm Hut\n",
    "Bleibt auf dem Kissen in der Nacht\n",
    "Und wird am Morgen neu entfacht\n",
    "Bleibt auf dem Kissen in der Nacht\n",
    "Und wird am Morgen neu entfacht\n",
    "\n",
    "Bleibt auf dem Kissen in der Nacht\n",
    "Und wird am Morgen neu entfacht\n",
    "Brennt, brennt wieder fort\n",
    "Brennt, brennt, brennt in jedem Wort\n",
    "Brennt, brennt, brennt in jeder Tat\n",
    "Brennt dich krumm und brennt dich grad\n",
    "\n",
    "Komm, Abend komm\n",
    "Und mach mich müd'\n",
    "Zünd' mir den Traum an\n",
    "Unterm Lid\n",
    "Das, was zu tun war ist getan\n",
    "Komm, roter Abend\n",
    "Komm heran\n",
    "Das, was zu tun war ist getan\n",
    "Komm, roter Abend\n",
    "Komm heran\n",
    "\"\"\""
   ]
  },
  {
   "cell_type": "code",
   "execution_count": 60,
   "metadata": {},
   "outputs": [],
   "source": [
    "nlp = spacy.load('de')\n",
    "doc = nlp(txtfile)"
   ]
  },
  {
   "cell_type": "markdown",
   "metadata": {},
   "source": [
    "## Preprocessing"
   ]
  },
  {
   "cell_type": "markdown",
   "metadata": {},
   "source": [
    "### 1. Get Words"
   ]
  },
  {
   "cell_type": "code",
   "execution_count": 73,
   "metadata": {},
   "outputs": [],
   "source": [
    "txtfile = re.sub(r'\\'|\\.\\.\\.|\\.|´|\\!|\\?|,|:|–|;|`|\\\"|\\\\|\\)|\\(|_', \"\", txtfile)"
   ]
  },
  {
   "cell_type": "code",
   "execution_count": 74,
   "metadata": {},
   "outputs": [],
   "source": [
    "#Tokenisieren des großen Strings\n",
    "tokens = nltk.tokenize.word_tokenize(txtfile,language='german')"
   ]
  },
  {
   "cell_type": "code",
   "execution_count": 75,
   "metadata": {},
   "outputs": [
    {
     "data": {
      "text/plain": [
       "['Komm',\n",
       " 'Abend',\n",
       " 'komm',\n",
       " 'Und',\n",
       " 'mach',\n",
       " 'mich',\n",
       " 'müd',\n",
       " 'Zünd',\n",
       " 'mir',\n",
       " 'den',\n",
       " 'Traum',\n",
       " 'an',\n",
       " 'Unterm',\n",
       " 'Lid',\n",
       " 'Das',\n",
       " 'was',\n",
       " 'zu',\n",
       " 'tun',\n",
       " 'war',\n",
       " 'ist',\n",
       " 'getan',\n",
       " 'Komm',\n",
       " 'roter',\n",
       " 'Abend',\n",
       " 'Komm',\n",
       " 'heran',\n",
       " 'Das',\n",
       " 'was',\n",
       " 'zu',\n",
       " 'tun',\n",
       " 'war',\n",
       " 'ist',\n",
       " 'getan',\n",
       " 'Komm',\n",
       " 'roter',\n",
       " 'Abend',\n",
       " 'Komm',\n",
       " 'heran',\n",
       " 'Fahrn',\n",
       " 'fahrn',\n",
       " 'Und',\n",
       " 'von',\n",
       " 'dem',\n",
       " 'Tag',\n",
       " 'bleibt',\n",
       " 'eine',\n",
       " 'Glut',\n",
       " 'Bleibt',\n",
       " 'auf',\n",
       " 'der',\n",
       " 'Stirne',\n",
       " 'unterm',\n",
       " 'Hut',\n",
       " 'Bleibt',\n",
       " 'auf',\n",
       " 'dem',\n",
       " 'Kissen',\n",
       " 'in',\n",
       " 'der',\n",
       " 'Nacht',\n",
       " 'Und',\n",
       " 'wird',\n",
       " 'am',\n",
       " 'Morgen',\n",
       " 'neu',\n",
       " 'entfacht',\n",
       " 'Bleibt',\n",
       " 'auf',\n",
       " 'dem',\n",
       " 'Kissen',\n",
       " 'in',\n",
       " 'der',\n",
       " 'Nacht',\n",
       " 'Und',\n",
       " 'wird',\n",
       " 'am',\n",
       " 'Morgen',\n",
       " 'neu',\n",
       " 'entfacht',\n",
       " 'Bleibt',\n",
       " 'auf',\n",
       " 'dem',\n",
       " 'Kissen',\n",
       " 'in',\n",
       " 'der',\n",
       " 'Nacht',\n",
       " 'Und',\n",
       " 'wird',\n",
       " 'am',\n",
       " 'Morgen',\n",
       " 'neu',\n",
       " 'entfacht',\n",
       " 'Brennt',\n",
       " 'brennt',\n",
       " 'wieder',\n",
       " 'fort',\n",
       " 'Brennt',\n",
       " 'brennt',\n",
       " 'brennt',\n",
       " 'in',\n",
       " 'jedem',\n",
       " 'Wort',\n",
       " 'Brennt',\n",
       " 'brennt',\n",
       " 'brennt',\n",
       " 'in',\n",
       " 'jeder',\n",
       " 'Tat',\n",
       " 'Brennt',\n",
       " 'dich',\n",
       " 'krumm',\n",
       " 'und',\n",
       " 'brennt',\n",
       " 'dich',\n",
       " 'grad',\n",
       " 'Komm',\n",
       " 'Abend',\n",
       " 'komm',\n",
       " 'Und',\n",
       " 'mach',\n",
       " 'mich',\n",
       " 'müd',\n",
       " 'Zünd',\n",
       " 'mir',\n",
       " 'den',\n",
       " 'Traum',\n",
       " 'an',\n",
       " 'Unterm',\n",
       " 'Lid',\n",
       " 'Das',\n",
       " 'was',\n",
       " 'zu',\n",
       " 'tun',\n",
       " 'war',\n",
       " 'ist',\n",
       " 'getan',\n",
       " 'Komm',\n",
       " 'roter',\n",
       " 'Abend',\n",
       " 'Komm',\n",
       " 'heran',\n",
       " 'Das',\n",
       " 'was',\n",
       " 'zu',\n",
       " 'tun',\n",
       " 'war',\n",
       " 'ist',\n",
       " 'getan',\n",
       " 'Komm',\n",
       " 'roter',\n",
       " 'Abend',\n",
       " 'Komm',\n",
       " 'heran']"
      ]
     },
     "execution_count": 75,
     "metadata": {},
     "output_type": "execute_result"
    }
   ],
   "source": [
    "tokens"
   ]
  },
  {
   "cell_type": "markdown",
   "metadata": {},
   "source": [
    "### 2. Punctuation"
   ]
  },
  {
   "cell_type": "code",
   "execution_count": 78,
   "metadata": {},
   "outputs": [],
   "source": [
    "tokens = [t.lower() for t in tokens]"
   ]
  },
  {
   "cell_type": "code",
   "execution_count": 79,
   "metadata": {},
   "outputs": [
    {
     "data": {
      "text/plain": [
       "['komm',\n",
       " 'abend',\n",
       " 'komm',\n",
       " 'und',\n",
       " 'mach',\n",
       " 'mich',\n",
       " 'müd',\n",
       " 'zünd',\n",
       " 'mir',\n",
       " 'den',\n",
       " 'traum',\n",
       " 'an',\n",
       " 'unterm',\n",
       " 'lid',\n",
       " 'das',\n",
       " 'was',\n",
       " 'zu',\n",
       " 'tun',\n",
       " 'war',\n",
       " 'ist',\n",
       " 'getan',\n",
       " 'komm',\n",
       " 'roter',\n",
       " 'abend',\n",
       " 'komm',\n",
       " 'heran',\n",
       " 'das',\n",
       " 'was',\n",
       " 'zu',\n",
       " 'tun',\n",
       " 'war',\n",
       " 'ist',\n",
       " 'getan',\n",
       " 'komm',\n",
       " 'roter',\n",
       " 'abend',\n",
       " 'komm',\n",
       " 'heran',\n",
       " 'fahrn',\n",
       " 'fahrn',\n",
       " 'und',\n",
       " 'von',\n",
       " 'dem',\n",
       " 'tag',\n",
       " 'bleibt',\n",
       " 'eine',\n",
       " 'glut',\n",
       " 'bleibt',\n",
       " 'auf',\n",
       " 'der',\n",
       " 'stirne',\n",
       " 'unterm',\n",
       " 'hut',\n",
       " 'bleibt',\n",
       " 'auf',\n",
       " 'dem',\n",
       " 'kissen',\n",
       " 'in',\n",
       " 'der',\n",
       " 'nacht',\n",
       " 'und',\n",
       " 'wird',\n",
       " 'am',\n",
       " 'morgen',\n",
       " 'neu',\n",
       " 'entfacht',\n",
       " 'bleibt',\n",
       " 'auf',\n",
       " 'dem',\n",
       " 'kissen',\n",
       " 'in',\n",
       " 'der',\n",
       " 'nacht',\n",
       " 'und',\n",
       " 'wird',\n",
       " 'am',\n",
       " 'morgen',\n",
       " 'neu',\n",
       " 'entfacht',\n",
       " 'bleibt',\n",
       " 'auf',\n",
       " 'dem',\n",
       " 'kissen',\n",
       " 'in',\n",
       " 'der',\n",
       " 'nacht',\n",
       " 'und',\n",
       " 'wird',\n",
       " 'am',\n",
       " 'morgen',\n",
       " 'neu',\n",
       " 'entfacht',\n",
       " 'brennt',\n",
       " 'brennt',\n",
       " 'wieder',\n",
       " 'fort',\n",
       " 'brennt',\n",
       " 'brennt',\n",
       " 'brennt',\n",
       " 'in',\n",
       " 'jedem',\n",
       " 'wort',\n",
       " 'brennt',\n",
       " 'brennt',\n",
       " 'brennt',\n",
       " 'in',\n",
       " 'jeder',\n",
       " 'tat',\n",
       " 'brennt',\n",
       " 'dich',\n",
       " 'krumm',\n",
       " 'und',\n",
       " 'brennt',\n",
       " 'dich',\n",
       " 'grad',\n",
       " 'komm',\n",
       " 'abend',\n",
       " 'komm',\n",
       " 'und',\n",
       " 'mach',\n",
       " 'mich',\n",
       " 'müd',\n",
       " 'zünd',\n",
       " 'mir',\n",
       " 'den',\n",
       " 'traum',\n",
       " 'an',\n",
       " 'unterm',\n",
       " 'lid',\n",
       " 'das',\n",
       " 'was',\n",
       " 'zu',\n",
       " 'tun',\n",
       " 'war',\n",
       " 'ist',\n",
       " 'getan',\n",
       " 'komm',\n",
       " 'roter',\n",
       " 'abend',\n",
       " 'komm',\n",
       " 'heran',\n",
       " 'das',\n",
       " 'was',\n",
       " 'zu',\n",
       " 'tun',\n",
       " 'war',\n",
       " 'ist',\n",
       " 'getan',\n",
       " 'komm',\n",
       " 'roter',\n",
       " 'abend',\n",
       " 'komm',\n",
       " 'heran']"
      ]
     },
     "execution_count": 79,
     "metadata": {},
     "output_type": "execute_result"
    }
   ],
   "source": [
    "tokens"
   ]
  },
  {
   "cell_type": "markdown",
   "metadata": {},
   "source": [
    "### 3. Aposthrophe"
   ]
  },
  {
   "cell_type": "markdown",
   "metadata": {},
   "source": [
    "### 3. Lowercase()"
   ]
  },
  {
   "cell_type": "markdown",
   "metadata": {},
   "source": [
    "### 4. Stopwords"
   ]
  },
  {
   "cell_type": "markdown",
   "metadata": {},
   "source": [
    "### 5. Single Characters"
   ]
  },
  {
   "cell_type": "code",
   "execution_count": null,
   "metadata": {},
   "outputs": [],
   "source": [
    "for w in words[:]:\n",
    "    if len(w) == 1:\n",
    "        words.remove(w)"
   ]
  },
  {
   "cell_type": "markdown",
   "metadata": {},
   "source": [
    "### 6. Lemmatisation"
   ]
  },
  {
   "cell_type": "markdown",
   "metadata": {},
   "source": [
    "### 7. Stemming"
   ]
  },
  {
   "cell_type": "markdown",
   "metadata": {},
   "source": [
    "### 8. Converting Numbers"
   ]
  },
  {
   "cell_type": "code",
   "execution_count": null,
   "metadata": {},
   "outputs": [],
   "source": []
  }
 ],
 "metadata": {
  "kernelspec": {
   "display_name": "Python 3",
   "language": "python",
   "name": "python3"
  },
  "language_info": {
   "codemirror_mode": {
    "name": "ipython",
    "version": 3
   },
   "file_extension": ".py",
   "mimetype": "text/x-python",
   "name": "python",
   "nbconvert_exporter": "python",
   "pygments_lexer": "ipython3",
   "version": "3.8.5"
  }
 },
 "nbformat": 4,
 "nbformat_minor": 4
}
