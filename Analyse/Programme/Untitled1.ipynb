{
 "cells": [
  {
   "cell_type": "markdown",
   "metadata": {},
   "source": [
    "# TF-IDF mit vorhandenem Preprocessing"
   ]
  },
  {
   "cell_type": "code",
   "execution_count": 3,
   "metadata": {},
   "outputs": [],
   "source": [
    "import nltk\n",
    "import re\n",
    "from HanTa import HanoverTagger as ht\n",
    "from nltk.corpus import stopwords"
   ]
  },
  {
   "cell_type": "code",
   "execution_count": 4,
   "metadata": {},
   "outputs": [],
   "source": [
    "def get_words(txtfile):\n",
    "    #Löschen der Sonderzeichen\n",
    "    txtfile = re.sub(r'\\'|\\.\\.\\.|\\.|´|\\!|\\?|,|:|–|;|`|\\\"|\\\\|\\)|\\(|_', \"\", txtfile)\n",
    "    #Tokenisieren des großen Strings\n",
    "    words = nltk.tokenize.word_tokenize(txtfile,language='german')\n",
    "    for w in words[:]:\n",
    "        if len(w) == 1:\n",
    "            words.remove(w)\n",
    "        else:\n",
    "            match = re.search(r'\\w+', w)\n",
    "            if match:\n",
    "                pass\n",
    "            else:\n",
    "                words.remove(w)\n",
    "    return words"
   ]
  },
  {
   "cell_type": "code",
   "execution_count": 7,
   "metadata": {},
   "outputs": [],
   "source": [
    "def get_lemmalist(worte):\n",
    "    #Laden des HanoverTaggers\n",
    "    tagger = ht.HanoverTagger('morphmodel_ger.pgz')\n",
    "    #Worte in words lemmatisieren und taggen\n",
    "    tags = []\n",
    "    for wort in worte:\n",
    "        tag = tagger.analyze(wort,taglevel=1)\n",
    "        tags.append(tag)\n",
    "    #Aus den tag-Tupeln nur Worte in eine Liste speichern\n",
    "    lemma_list = []\n",
    "    for tup in tags:\n",
    "        #Hinzufügen der lemmatisierten Worte zur lemma_list\n",
    "        lemma_list.append(tup[0])\n",
    "        #Alternativ: Hinzufügen der lemmatisierten Nomen zur lemma_list\n",
    "        #if tup[1] == 'NN':\n",
    "        #    lemma_list.append(tup[0])\n",
    "\n",
    "    for w in lemma_list[:]:\n",
    "        if len(w) == 1:\n",
    "            lemma_list.remove(w)\n",
    "        else:\n",
    "            match = re.search(r'\\w+', w)\n",
    "            if match:\n",
    "                pass\n",
    "            else:\n",
    "                lemma_list.remove(w)\n",
    "    return lemma_list"
   ]
  },
  {
   "cell_type": "code",
   "execution_count": 8,
   "metadata": {},
   "outputs": [],
   "source": [
    "def delete_stopwords(wortliste):\n",
    "    stopset = stopwords.words('german')\n",
    "    tokens_without_sw = [w for w in wortliste if not w.lower() in stopset]\n",
    "    return tokens_without_sw"
   ]
  },
  {
   "cell_type": "code",
   "execution_count": null,
   "metadata": {},
   "outputs": [],
   "source": []
  }
 ],
 "metadata": {
  "kernelspec": {
   "display_name": "Python 3",
   "language": "python",
   "name": "python3"
  },
  "language_info": {
   "codemirror_mode": {
    "name": "ipython",
    "version": 3
   },
   "file_extension": ".py",
   "mimetype": "text/x-python",
   "name": "python",
   "nbconvert_exporter": "python",
   "pygments_lexer": "ipython3",
   "version": "3.8.5"
  }
 },
 "nbformat": 4,
 "nbformat_minor": 4
}
