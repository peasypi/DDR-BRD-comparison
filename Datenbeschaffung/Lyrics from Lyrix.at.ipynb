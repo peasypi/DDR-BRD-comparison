{
 "cells": [
  {
   "cell_type": "code",
   "execution_count": 1,
   "metadata": {},
   "outputs": [],
   "source": [
    "from bs4 import BeautifulSoup\n",
    "import json\n",
    "from urllib.request import Request, urlopen\n",
    "from urllib.error import HTTPError\n",
    "import re"
   ]
  },
  {
   "cell_type": "code",
   "execution_count": 38,
   "metadata": {},
   "outputs": [],
   "source": [
    "url = \"https://lyrix.at/t/brot-salz-nie-zuvor-78a\"\n",
    "req = Request(url, headers={'User-Agent': 'Mozilla/5.0'})\n",
    "webpage = urlopen(req).read()"
   ]
  },
  {
   "cell_type": "code",
   "execution_count": 39,
   "metadata": {},
   "outputs": [
    {
     "name": "stdout",
     "output_type": "stream",
     "text": [
      "Nie zu vergessen\n",
      "ich starrte dich an.\n",
      "War ganz selbstvergessen,\n",
      "mehr Junge als Mann.\n",
      "An dich verloren,\n",
      "verloren für dich.\n",
      "Und ich gehe meine Wege\n",
      "und mein Ziel bist deshalb du.\n",
      "Doch weiß man das\n",
      "wenn man sich selbst nicht kennt.\n",
      "Also lass ich dir dein Schweigen,\n",
      "was mir auf der Seele brennt.\n",
      "Wahr geword `ne Träume sind\n",
      "wie ein Verlust.\n",
      " \n",
      "\n",
      "Und ich gehe meine Wege\n",
      "und ich weiß das ich so fror wie\n",
      "nie zuvor, nie zuvor, nie zuvor\n",
      " \n",
      "\n",
      "Nie zu vergessen\n",
      " der eine Moment.\n",
      "So blass und so müde\n",
      "nie wirst du mir fremd.\n",
      "Was ist verloren,\n",
      "ein Stück meiner Ruh `.\n",
      " \n",
      "\n",
      "Und ich gehe meine Wege\n",
      "und ich geh nach meinem Plan.\n",
      "Doch ich weiß nicht mehr so sicher\n",
      "komm ich an.\n",
      "Also deute ich dein Schweigen,\n",
      "denn das war der ganze Halt.\n",
      "Niemals ahnte ich wie kurz das Leben ist.\n",
      " \n",
      "\n",
      "Und ich gehe meine Wege\n",
      "und ich weiß das ich so fror wie\n",
      "nie zuvor, nie zuvor, nie zuvor,\n",
      "nie zuvor, nie zuvor, nie zuvor !\n",
      "            \n"
     ]
    }
   ],
   "source": [
    "soup = BeautifulSoup(webpage, 'html.parser')\n",
    "song_json = {}\n",
    "song_json[\"Lyrics\"] = []\n",
    "# song_json[\"Comments\"] = []\n",
    "\n",
    "# Extract Title of the song\n",
    "song_json[\"Title\"] = soup.title.string\n",
    "\n",
    "# Extract the Lyrics of the song\n",
    "for div in soup.findAll('div', attrs={'class': 'songtext'}):\n",
    "    #song_json[\"Lyrics\"].append(div.text.strip())\n",
    "    #print(str(div))\n",
    "    #text = str(div).replace(\"<br/> <br/>\", '\\n\\n')\n",
    "    #text = text.replace(\"<br/>\", '\\n')\n",
    "    text = re.sub(r'<br/>', '\\n', str(div))\n",
    "    #print(text)\n",
    "text = re.sub(r'<.*>','', text)\n",
    "text = re.sub(r'^\\s+', '', text, re.MULTILINE)\n",
    "\n",
    "print(text)"
   ]
  },
  {
   "cell_type": "code",
   "execution_count": 25,
   "metadata": {},
   "outputs": [
    {
     "data": {
      "text/plain": [
       "'\\n            Nie zu vergessen\\nich starrte dich an.\\nWar ganz selbstvergessen,\\nmehr Junge als Mann.\\nAn dich verloren,\\nverloren für dich.\\nUnd ich gehe meine Wege\\nund mein Ziel bist deshalb du.\\nDoch weiß man das\\nwenn man sich selbst nicht kennt.\\nAlso lass ich dir dein Schweigen,\\nwas mir auf der Seele brennt.\\nWahr geword `ne Träume sind\\nwie ein Verlust.\\n \\n\\nUnd ich gehe meine Wege\\nund ich weiß das ich so fror wie\\nnie zuvor, nie zuvor, nie zuvor\\n \\n\\nNie zu vergessen\\n der eine Moment.\\nSo blass und so müde\\nnie wirst du mir fremd.\\nWas ist verloren,\\nein Stück meiner Ruh `.\\n \\n\\nUnd ich gehe meine Wege\\nund ich geh nach meinem Plan.\\nDoch ich weiß nicht mehr so sicher\\nkomm ich an.\\nAlso deute ich dein Schweigen,\\ndenn das war der ganze Halt.\\nNiemals ahnte ich wie kurz das Leben ist.\\n \\n\\nUnd ich gehe meine Wege\\nund ich weiß das ich so fror wie\\nnie zuvor, nie zuvor, nie zuvor,\\nnie zuvor, nie zuvor, nie zuvor !\\n            '"
      ]
     },
     "execution_count": 25,
     "metadata": {},
     "output_type": "execute_result"
    }
   ],
   "source": [
    "text"
   ]
  },
  {
   "cell_type": "code",
   "execution_count": 19,
   "metadata": {},
   "outputs": [],
   "source": [
    "Du komm her, mein Bergkristall.\\nDu mein Meer, mein Weltenall\\nDu, mein Tag meine Nacht.\\nDu komm her.\\n\\nDu komm her, mein Fleisch und Blut.\\nDu mein Wehr, Hoffnung und Mut.\\nDu, mein Glück, meine Angst\\nDu komm her.\\n\\nWas wäre ich ohne dich\\nSpiegelglas ohne ein Bild\\nalso wär` ich ohne mich,\\ndas wär` ich ohne dich.\\nohne Dich, ohne dich.\\n\\nDu komm her, du meine Lust,\\nmeine Ehr, mach `s mir bewusst,\\nwas mir brennt, wenn `s mir fehlt,\\ndu komm her.\\n\\nWas wäre ich ohne dich\\nSpiegelglas ohne ein Bild\\nalso wär` ich ohne mich,\\ndas wäre ich ohne dich.\\n\\nWas wäre ich ohne dich\\nSpiegelglas ohne ein Bild\\nalso wär` ich ohne mich,\\ndas wäre ich ohne dich.\\n\\nDu komm her, mein Bergkristall.\\nDu mein Meer, mein Weltenall\\nDu, mein Tag meine Nacht.\\nDu komm her."
   ]
  },
  {
   "cell_type": "code",
   "execution_count": 20,
   "metadata": {},
   "outputs": [
    {
     "name": "stdout",
     "output_type": "stream",
     "text": [
      "Unsre Band hat viel Spaß beim Spielen\n",
      "und darauf steht das Publikum.\n",
      "Unsre Band hat viel Spaß beim Spielen\n",
      "wir kommen dabei viel herum.\n",
      "\n",
      "Am Freitag geht `s los in den Puppen,\n",
      "da sind alle froh.\n",
      "Wir sind ein paar tage auf Reisen\n",
      "irgendwo, irgendwo.\n",
      "\n",
      "Sind wir endlich angekommen\n",
      "fängt der Spaß erst richtig an.\n",
      "Haben wir dann Feuer gefangen,\n",
      "geht die Band\n",
      " gleich richtig an.\n",
      "Der Dicke schüttelt die Mähne\n",
      "und macht seine Show.\n",
      "Und unten die Leute\n",
      "die schaffen sich dann so,\n",
      "sich dann so.\n",
      "\n",
      "Unsre Band hat viel Spaß beim Spielen\n",
      "und darauf steht das Publikum.\n",
      "Unsre Band hat viel Spaß beim Spielen\n",
      "wir kommen dabei viel herum.\n",
      "\n",
      "Am Sonntag ganz spät\n",
      "sind wir wieder zu Haus angelangt.\n",
      "Fallen todmüd` ins Bett\n",
      "und träumen schon vom nächsten,\n",
      "nächsten Mal.\n"
     ]
    }
   ],
   "source": [
    "print(lol)"
   ]
  },
  {
   "cell_type": "code",
   "execution_count": 10,
   "metadata": {},
   "outputs": [
    {
     "name": "stdout",
     "output_type": "stream",
     "text": [
      "Das ist unsre Musik\n",
      " \n",
      "die so rockig beginnt.\n"
     ]
    }
   ],
   "source": [
    "stri = \"Das ist unsre Musik<br/> <br/>die so rockig beginnt.\"\n",
    "print(stri.replace(\"<br/>\", '\\n'))"
   ]
  },
  {
   "cell_type": "code",
   "execution_count": null,
   "metadata": {},
   "outputs": [],
   "source": []
  },
  {
   "cell_type": "code",
   "execution_count": null,
   "metadata": {},
   "outputs": [],
   "source": []
  }
 ],
 "metadata": {
  "kernelspec": {
   "display_name": "Python 3",
   "language": "python",
   "name": "python3"
  },
  "language_info": {
   "codemirror_mode": {
    "name": "ipython",
    "version": 3
   },
   "file_extension": ".py",
   "mimetype": "text/x-python",
   "name": "python",
   "nbconvert_exporter": "python",
   "pygments_lexer": "ipython3",
   "version": "3.7.4"
  }
 },
 "nbformat": 4,
 "nbformat_minor": 2
}
