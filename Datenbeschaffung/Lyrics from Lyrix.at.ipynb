{
 "cells": [
  {
   "cell_type": "code",
   "execution_count": 1,
   "metadata": {},
   "outputs": [],
   "source": [
    "from bs4 import BeautifulSoup\n",
    "import json\n",
    "from urllib.request import Request, urlopen\n",
    "from urllib.error import HTTPError\n",
    "import re"
   ]
  },
  {
   "cell_type": "code",
   "execution_count": 74,
   "metadata": {},
   "outputs": [
    {
     "ename": "HTTPError",
     "evalue": "HTTP Error 403: Forbidden",
     "output_type": "error",
     "traceback": [
      "\u001b[0;31m---------------------------------------------------------------------------\u001b[0m",
      "\u001b[0;31mHTTPError\u001b[0m                                 Traceback (most recent call last)",
      "\u001b[0;32m<ipython-input-74-3f702903bb36>\u001b[0m in \u001b[0;36m<module>\u001b[0;34m\u001b[0m\n\u001b[1;32m      1\u001b[0m \u001b[0murl\u001b[0m \u001b[0;34m=\u001b[0m \u001b[0;34m\"https://lyrix.at/t/puhdys-so-nah-am-leben-nah-am-tod-652\"\u001b[0m\u001b[0;34m\u001b[0m\u001b[0;34m\u001b[0m\u001b[0m\n\u001b[1;32m      2\u001b[0m \u001b[0mreq\u001b[0m \u001b[0;34m=\u001b[0m \u001b[0mRequest\u001b[0m\u001b[0;34m(\u001b[0m\u001b[0murl\u001b[0m\u001b[0;34m,\u001b[0m \u001b[0mheaders\u001b[0m\u001b[0;34m=\u001b[0m\u001b[0;34m{\u001b[0m\u001b[0;34m'User-Agent'\u001b[0m\u001b[0;34m:\u001b[0m \u001b[0;34m'Mozilla/5.0'\u001b[0m\u001b[0;34m}\u001b[0m\u001b[0;34m)\u001b[0m\u001b[0;34m\u001b[0m\u001b[0;34m\u001b[0m\u001b[0m\n\u001b[0;32m----> 3\u001b[0;31m \u001b[0mwebpage\u001b[0m \u001b[0;34m=\u001b[0m \u001b[0murlopen\u001b[0m\u001b[0;34m(\u001b[0m\u001b[0mreq\u001b[0m\u001b[0;34m)\u001b[0m\u001b[0;34m.\u001b[0m\u001b[0mread\u001b[0m\u001b[0;34m(\u001b[0m\u001b[0;34m)\u001b[0m\u001b[0;34m\u001b[0m\u001b[0;34m\u001b[0m\u001b[0m\n\u001b[0m",
      "\u001b[0;32m/usr/local/Cellar/python/3.7.4/Frameworks/Python.framework/Versions/3.7/lib/python3.7/urllib/request.py\u001b[0m in \u001b[0;36murlopen\u001b[0;34m(url, data, timeout, cafile, capath, cadefault, context)\u001b[0m\n\u001b[1;32m    220\u001b[0m     \u001b[0;32melse\u001b[0m\u001b[0;34m:\u001b[0m\u001b[0;34m\u001b[0m\u001b[0;34m\u001b[0m\u001b[0m\n\u001b[1;32m    221\u001b[0m         \u001b[0mopener\u001b[0m \u001b[0;34m=\u001b[0m \u001b[0m_opener\u001b[0m\u001b[0;34m\u001b[0m\u001b[0;34m\u001b[0m\u001b[0m\n\u001b[0;32m--> 222\u001b[0;31m     \u001b[0;32mreturn\u001b[0m \u001b[0mopener\u001b[0m\u001b[0;34m.\u001b[0m\u001b[0mopen\u001b[0m\u001b[0;34m(\u001b[0m\u001b[0murl\u001b[0m\u001b[0;34m,\u001b[0m \u001b[0mdata\u001b[0m\u001b[0;34m,\u001b[0m \u001b[0mtimeout\u001b[0m\u001b[0;34m)\u001b[0m\u001b[0;34m\u001b[0m\u001b[0;34m\u001b[0m\u001b[0m\n\u001b[0m\u001b[1;32m    223\u001b[0m \u001b[0;34m\u001b[0m\u001b[0m\n\u001b[1;32m    224\u001b[0m \u001b[0;32mdef\u001b[0m \u001b[0minstall_opener\u001b[0m\u001b[0;34m(\u001b[0m\u001b[0mopener\u001b[0m\u001b[0;34m)\u001b[0m\u001b[0;34m:\u001b[0m\u001b[0;34m\u001b[0m\u001b[0;34m\u001b[0m\u001b[0m\n",
      "\u001b[0;32m/usr/local/Cellar/python/3.7.4/Frameworks/Python.framework/Versions/3.7/lib/python3.7/urllib/request.py\u001b[0m in \u001b[0;36mopen\u001b[0;34m(self, fullurl, data, timeout)\u001b[0m\n\u001b[1;32m    529\u001b[0m         \u001b[0;32mfor\u001b[0m \u001b[0mprocessor\u001b[0m \u001b[0;32min\u001b[0m \u001b[0mself\u001b[0m\u001b[0;34m.\u001b[0m\u001b[0mprocess_response\u001b[0m\u001b[0;34m.\u001b[0m\u001b[0mget\u001b[0m\u001b[0;34m(\u001b[0m\u001b[0mprotocol\u001b[0m\u001b[0;34m,\u001b[0m \u001b[0;34m[\u001b[0m\u001b[0;34m]\u001b[0m\u001b[0;34m)\u001b[0m\u001b[0;34m:\u001b[0m\u001b[0;34m\u001b[0m\u001b[0;34m\u001b[0m\u001b[0m\n\u001b[1;32m    530\u001b[0m             \u001b[0mmeth\u001b[0m \u001b[0;34m=\u001b[0m \u001b[0mgetattr\u001b[0m\u001b[0;34m(\u001b[0m\u001b[0mprocessor\u001b[0m\u001b[0;34m,\u001b[0m \u001b[0mmeth_name\u001b[0m\u001b[0;34m)\u001b[0m\u001b[0;34m\u001b[0m\u001b[0;34m\u001b[0m\u001b[0m\n\u001b[0;32m--> 531\u001b[0;31m             \u001b[0mresponse\u001b[0m \u001b[0;34m=\u001b[0m \u001b[0mmeth\u001b[0m\u001b[0;34m(\u001b[0m\u001b[0mreq\u001b[0m\u001b[0;34m,\u001b[0m \u001b[0mresponse\u001b[0m\u001b[0;34m)\u001b[0m\u001b[0;34m\u001b[0m\u001b[0;34m\u001b[0m\u001b[0m\n\u001b[0m\u001b[1;32m    532\u001b[0m \u001b[0;34m\u001b[0m\u001b[0m\n\u001b[1;32m    533\u001b[0m         \u001b[0;32mreturn\u001b[0m \u001b[0mresponse\u001b[0m\u001b[0;34m\u001b[0m\u001b[0;34m\u001b[0m\u001b[0m\n",
      "\u001b[0;32m/usr/local/Cellar/python/3.7.4/Frameworks/Python.framework/Versions/3.7/lib/python3.7/urllib/request.py\u001b[0m in \u001b[0;36mhttp_response\u001b[0;34m(self, request, response)\u001b[0m\n\u001b[1;32m    639\u001b[0m         \u001b[0;32mif\u001b[0m \u001b[0;32mnot\u001b[0m \u001b[0;34m(\u001b[0m\u001b[0;36m200\u001b[0m \u001b[0;34m<=\u001b[0m \u001b[0mcode\u001b[0m \u001b[0;34m<\u001b[0m \u001b[0;36m300\u001b[0m\u001b[0;34m)\u001b[0m\u001b[0;34m:\u001b[0m\u001b[0;34m\u001b[0m\u001b[0;34m\u001b[0m\u001b[0m\n\u001b[1;32m    640\u001b[0m             response = self.parent.error(\n\u001b[0;32m--> 641\u001b[0;31m                 'http', request, response, code, msg, hdrs)\n\u001b[0m\u001b[1;32m    642\u001b[0m \u001b[0;34m\u001b[0m\u001b[0m\n\u001b[1;32m    643\u001b[0m         \u001b[0;32mreturn\u001b[0m \u001b[0mresponse\u001b[0m\u001b[0;34m\u001b[0m\u001b[0;34m\u001b[0m\u001b[0m\n",
      "\u001b[0;32m/usr/local/Cellar/python/3.7.4/Frameworks/Python.framework/Versions/3.7/lib/python3.7/urllib/request.py\u001b[0m in \u001b[0;36merror\u001b[0;34m(self, proto, *args)\u001b[0m\n\u001b[1;32m    567\u001b[0m         \u001b[0;32mif\u001b[0m \u001b[0mhttp_err\u001b[0m\u001b[0;34m:\u001b[0m\u001b[0;34m\u001b[0m\u001b[0;34m\u001b[0m\u001b[0m\n\u001b[1;32m    568\u001b[0m             \u001b[0margs\u001b[0m \u001b[0;34m=\u001b[0m \u001b[0;34m(\u001b[0m\u001b[0mdict\u001b[0m\u001b[0;34m,\u001b[0m \u001b[0;34m'default'\u001b[0m\u001b[0;34m,\u001b[0m \u001b[0;34m'http_error_default'\u001b[0m\u001b[0;34m)\u001b[0m \u001b[0;34m+\u001b[0m \u001b[0morig_args\u001b[0m\u001b[0;34m\u001b[0m\u001b[0;34m\u001b[0m\u001b[0m\n\u001b[0;32m--> 569\u001b[0;31m             \u001b[0;32mreturn\u001b[0m \u001b[0mself\u001b[0m\u001b[0;34m.\u001b[0m\u001b[0m_call_chain\u001b[0m\u001b[0;34m(\u001b[0m\u001b[0;34m*\u001b[0m\u001b[0margs\u001b[0m\u001b[0;34m)\u001b[0m\u001b[0;34m\u001b[0m\u001b[0;34m\u001b[0m\u001b[0m\n\u001b[0m\u001b[1;32m    570\u001b[0m \u001b[0;34m\u001b[0m\u001b[0m\n\u001b[1;32m    571\u001b[0m \u001b[0;31m# XXX probably also want an abstract factory that knows when it makes\u001b[0m\u001b[0;34m\u001b[0m\u001b[0;34m\u001b[0m\u001b[0;34m\u001b[0m\u001b[0m\n",
      "\u001b[0;32m/usr/local/Cellar/python/3.7.4/Frameworks/Python.framework/Versions/3.7/lib/python3.7/urllib/request.py\u001b[0m in \u001b[0;36m_call_chain\u001b[0;34m(self, chain, kind, meth_name, *args)\u001b[0m\n\u001b[1;32m    501\u001b[0m         \u001b[0;32mfor\u001b[0m \u001b[0mhandler\u001b[0m \u001b[0;32min\u001b[0m \u001b[0mhandlers\u001b[0m\u001b[0;34m:\u001b[0m\u001b[0;34m\u001b[0m\u001b[0;34m\u001b[0m\u001b[0m\n\u001b[1;32m    502\u001b[0m             \u001b[0mfunc\u001b[0m \u001b[0;34m=\u001b[0m \u001b[0mgetattr\u001b[0m\u001b[0;34m(\u001b[0m\u001b[0mhandler\u001b[0m\u001b[0;34m,\u001b[0m \u001b[0mmeth_name\u001b[0m\u001b[0;34m)\u001b[0m\u001b[0;34m\u001b[0m\u001b[0;34m\u001b[0m\u001b[0m\n\u001b[0;32m--> 503\u001b[0;31m             \u001b[0mresult\u001b[0m \u001b[0;34m=\u001b[0m \u001b[0mfunc\u001b[0m\u001b[0;34m(\u001b[0m\u001b[0;34m*\u001b[0m\u001b[0margs\u001b[0m\u001b[0;34m)\u001b[0m\u001b[0;34m\u001b[0m\u001b[0;34m\u001b[0m\u001b[0m\n\u001b[0m\u001b[1;32m    504\u001b[0m             \u001b[0;32mif\u001b[0m \u001b[0mresult\u001b[0m \u001b[0;32mis\u001b[0m \u001b[0;32mnot\u001b[0m \u001b[0;32mNone\u001b[0m\u001b[0;34m:\u001b[0m\u001b[0;34m\u001b[0m\u001b[0;34m\u001b[0m\u001b[0m\n\u001b[1;32m    505\u001b[0m                 \u001b[0;32mreturn\u001b[0m \u001b[0mresult\u001b[0m\u001b[0;34m\u001b[0m\u001b[0;34m\u001b[0m\u001b[0m\n",
      "\u001b[0;32m/usr/local/Cellar/python/3.7.4/Frameworks/Python.framework/Versions/3.7/lib/python3.7/urllib/request.py\u001b[0m in \u001b[0;36mhttp_error_default\u001b[0;34m(self, req, fp, code, msg, hdrs)\u001b[0m\n\u001b[1;32m    647\u001b[0m \u001b[0;32mclass\u001b[0m \u001b[0mHTTPDefaultErrorHandler\u001b[0m\u001b[0;34m(\u001b[0m\u001b[0mBaseHandler\u001b[0m\u001b[0;34m)\u001b[0m\u001b[0;34m:\u001b[0m\u001b[0;34m\u001b[0m\u001b[0;34m\u001b[0m\u001b[0m\n\u001b[1;32m    648\u001b[0m     \u001b[0;32mdef\u001b[0m \u001b[0mhttp_error_default\u001b[0m\u001b[0;34m(\u001b[0m\u001b[0mself\u001b[0m\u001b[0;34m,\u001b[0m \u001b[0mreq\u001b[0m\u001b[0;34m,\u001b[0m \u001b[0mfp\u001b[0m\u001b[0;34m,\u001b[0m \u001b[0mcode\u001b[0m\u001b[0;34m,\u001b[0m \u001b[0mmsg\u001b[0m\u001b[0;34m,\u001b[0m \u001b[0mhdrs\u001b[0m\u001b[0;34m)\u001b[0m\u001b[0;34m:\u001b[0m\u001b[0;34m\u001b[0m\u001b[0;34m\u001b[0m\u001b[0m\n\u001b[0;32m--> 649\u001b[0;31m         \u001b[0;32mraise\u001b[0m \u001b[0mHTTPError\u001b[0m\u001b[0;34m(\u001b[0m\u001b[0mreq\u001b[0m\u001b[0;34m.\u001b[0m\u001b[0mfull_url\u001b[0m\u001b[0;34m,\u001b[0m \u001b[0mcode\u001b[0m\u001b[0;34m,\u001b[0m \u001b[0mmsg\u001b[0m\u001b[0;34m,\u001b[0m \u001b[0mhdrs\u001b[0m\u001b[0;34m,\u001b[0m \u001b[0mfp\u001b[0m\u001b[0;34m)\u001b[0m\u001b[0;34m\u001b[0m\u001b[0;34m\u001b[0m\u001b[0m\n\u001b[0m\u001b[1;32m    650\u001b[0m \u001b[0;34m\u001b[0m\u001b[0m\n\u001b[1;32m    651\u001b[0m \u001b[0;32mclass\u001b[0m \u001b[0mHTTPRedirectHandler\u001b[0m\u001b[0;34m(\u001b[0m\u001b[0mBaseHandler\u001b[0m\u001b[0;34m)\u001b[0m\u001b[0;34m:\u001b[0m\u001b[0;34m\u001b[0m\u001b[0;34m\u001b[0m\u001b[0m\n",
      "\u001b[0;31mHTTPError\u001b[0m: HTTP Error 403: Forbidden"
     ]
    }
   ],
   "source": [
    "url = \"https://lyrix.at/t/puhdys-so-nah-am-leben-nah-am-tod-652\"\n",
    "req = Request(url, headers={'User-Agent': 'Mozilla/5.0'})\n",
    "webpage = urlopen(req).read()"
   ]
  },
  {
   "cell_type": "code",
   "execution_count": 75,
   "metadata": {
    "tags": []
   },
   "outputs": [
    {
     "name": "stdout",
     "output_type": "stream",
     "text": [
      "lag die märchenfee in meinem bett\n",
      "eines nachts beim mondenschein\n",
      "fragte ob ich sieben wünsche hätt\n",
      "ich sag nein.\n",
      "sieben wünsche fall n mir jetzt nicht ein\n",
      "viel zu nah lieg ich bei dir\n",
      "aber darf es auch n einziger sein:\n",
      "schlaf mit mir\n",
      " \n",
      "was kann ich dafür \n",
      "kann ich dafür\n",
      "dass mir so ist bei dir\n",
      "bei dir.\n",
      "das man alles andre\n",
      "alles andre schnell vergisst\n",
      "bist du hier\n",
      " \n",
      "sprang die märchenfee aus meinem bett\n",
      "sprach: wer nichts weiter denkt und fühlt\n",
      "als dass er bei sich im bett was hätt\n",
      "hat verspielt\n",
      " \n",
      "was kann ich dafür \n",
      "kann ich dafür\n",
      "dass mir so ist bei dir\n",
      "bei dir\n",
      "das man alles andre\n",
      "alles andre schnell vergisst\n",
      "bist du hier\n",
      " \n",
      "was kann ich dafür \n",
      "kann ich dafür\n",
      "dass mir so ist bei dir\n",
      "bei dir\n",
      "das man alles andre\n",
      "alles andre schnell vergisst\n",
      "bist du hier \n",
      "            \n"
     ]
    }
   ],
   "source": [
    "soup = BeautifulSoup(webpage, 'html.parser')\n",
    "song_json = {}\n",
    "song_json[\"Lyrics\"] = []\n",
    "# song_json[\"Comments\"] = []\n",
    "\n",
    "# Extract Title of the song\n",
    "song_json[\"Title\"] = soup.title.string\n",
    "\n",
    "# Extract the Lyrics of the song\n",
    "for div in soup.findAll('div', attrs={'class': 'songtext'}):\n",
    "    #song_json[\"Lyrics\"].append(div.text.strip())\n",
    "    #print(str(div))\n",
    "    #text = str(div).replace(\"<br/> <br/>\", '\\n\\n')\n",
    "    #text = text.replace(\"<br/>\", '\\n')\n",
    "    text = re.sub(r'<br/>', '\\n', str(div))\n",
    "    #print(text)\n",
    "text = re.sub(r'<.*>','', text)\n",
    "text = re.sub(r'^\\s+', '', text, re.MULTILINE)\n",
    "\n",
    "print(text)"
   ]
  },
  {
   "cell_type": "code",
   "execution_count": 76,
   "metadata": {},
   "outputs": [
    {
     "data": {
      "text/plain": [
       "'lag die märchenfee in meinem bett\\neines nachts beim mondenschein\\nfragte ob ich sieben wünsche hätt\\nich sag nein.\\nsieben wünsche fall n mir jetzt nicht ein\\nviel zu nah lieg ich bei dir\\naber darf es auch n einziger sein:\\nschlaf mit mir\\n \\nwas kann ich dafür \\nkann ich dafür\\ndass mir so ist bei dir\\nbei dir.\\ndas man alles andre\\nalles andre schnell vergisst\\nbist du hier\\n \\nsprang die märchenfee aus meinem bett\\nsprach: wer nichts weiter denkt und fühlt\\nals dass er bei sich im bett was hätt\\nhat verspielt\\n \\nwas kann ich dafür \\nkann ich dafür\\ndass mir so ist bei dir\\nbei dir\\ndas man alles andre\\nalles andre schnell vergisst\\nbist du hier\\n \\nwas kann ich dafür \\nkann ich dafür\\ndass mir so ist bei dir\\nbei dir\\ndas man alles andre\\nalles andre schnell vergisst\\nbist du hier \\n            '"
      ]
     },
     "execution_count": 76,
     "metadata": {},
     "output_type": "execute_result"
    }
   ],
   "source": [
    "text"
   ]
  },
  {
   "cell_type": "code",
   "execution_count": 77,
   "metadata": {},
   "outputs": [
    {
     "ename": "SyntaxError",
     "evalue": "invalid syntax (<ipython-input-77-c39bf5d066ee>, line 1)",
     "output_type": "error",
     "traceback": [
      "\u001b[0;36m  File \u001b[0;32m\"<ipython-input-77-c39bf5d066ee>\"\u001b[0;36m, line \u001b[0;32m1\u001b[0m\n\u001b[0;31m    Du komm her, mein Bergkristall.\\nDu mein Meer, mein Weltenall\\nDu, mein Tag meine Nacht.\\nDu komm her.\\n\\nDu komm her, mein Fleisch und Blut.\\nDu mein Wehr, Hoffnung und Mut.\\nDu, mein Glück, meine Angst\\nDu komm her.\\n\\nWas wäre ich ohne dich\\nSpiegelglas ohne ein Bild\\nalso wär` ich ohne mich,\\ndas wär` ich ohne dich.\\nohne Dich, ohne dich.\\n\\nDu komm her, du meine Lust,\\nmeine Ehr, mach `s mir bewusst,\\nwas mir brennt, wenn `s mir fehlt,\\ndu komm her.\\n\\nWas wäre ich ohne dich\\nSpiegelglas ohne ein Bild\\nalso wär` ich ohne mich,\\ndas wäre ich ohne dich.\\n\\nWas wäre ich ohne dich\\nSpiegelglas ohne ein Bild\\nalso wär` ich ohne mich,\\ndas wäre ich ohne dich.\\n\\nDu komm her, mein Bergkristall.\\nDu mein Meer, mein Weltenall\\nDu, mein Tag meine Nacht.\\nDu komm her.\u001b[0m\n\u001b[0m          ^\u001b[0m\n\u001b[0;31mSyntaxError\u001b[0m\u001b[0;31m:\u001b[0m invalid syntax\n"
     ]
    }
   ],
   "source": [
    "Du komm her, mein Bergkristall.\\nDu mein Meer, mein Weltenall\\nDu, mein Tag meine Nacht.\\nDu komm her.\\n\\nDu komm her, mein Fleisch und Blut.\\nDu mein Wehr, Hoffnung und Mut.\\nDu, mein Glück, meine Angst\\nDu komm her.\\n\\nWas wäre ich ohne dich\\nSpiegelglas ohne ein Bild\\nalso wär` ich ohne mich,\\ndas wär` ich ohne dich.\\nohne Dich, ohne dich.\\n\\nDu komm her, du meine Lust,\\nmeine Ehr, mach `s mir bewusst,\\nwas mir brennt, wenn `s mir fehlt,\\ndu komm her.\\n\\nWas wäre ich ohne dich\\nSpiegelglas ohne ein Bild\\nalso wär` ich ohne mich,\\ndas wäre ich ohne dich.\\n\\nWas wäre ich ohne dich\\nSpiegelglas ohne ein Bild\\nalso wär` ich ohne mich,\\ndas wäre ich ohne dich.\\n\\nDu komm her, mein Bergkristall.\\nDu mein Meer, mein Weltenall\\nDu, mein Tag meine Nacht.\\nDu komm her."
   ]
  },
  {
   "cell_type": "code",
   "execution_count": 78,
   "metadata": {},
   "outputs": [
    {
     "ename": "NameError",
     "evalue": "name 'lol' is not defined",
     "output_type": "error",
     "traceback": [
      "\u001b[0;31m---------------------------------------------------------------------------\u001b[0m",
      "\u001b[0;31mNameError\u001b[0m                                 Traceback (most recent call last)",
      "\u001b[0;32m<ipython-input-78-bdf7b98dd970>\u001b[0m in \u001b[0;36m<module>\u001b[0;34m\u001b[0m\n\u001b[0;32m----> 1\u001b[0;31m \u001b[0mprint\u001b[0m\u001b[0;34m(\u001b[0m\u001b[0mlol\u001b[0m\u001b[0;34m)\u001b[0m\u001b[0;34m\u001b[0m\u001b[0;34m\u001b[0m\u001b[0m\n\u001b[0m",
      "\u001b[0;31mNameError\u001b[0m: name 'lol' is not defined"
     ]
    }
   ],
   "source": [
    "print(lol)"
   ]
  },
  {
   "cell_type": "code",
   "execution_count": 79,
   "metadata": {
    "tags": []
   },
   "outputs": [
    {
     "name": "stdout",
     "output_type": "stream",
     "text": [
      "Das ist unsre Musik\n",
      " \n",
      "die so rockig beginnt.\n"
     ]
    }
   ],
   "source": [
    "stri = \"Das ist unsre Musik<br/> <br/>die so rockig beginnt.\"\n",
    "print(stri.replace(\"<br/>\", '\\n'))"
   ]
  },
  {
   "cell_type": "code",
   "execution_count": 4,
   "metadata": {},
   "outputs": [],
   "source": [
    "text = \"\"\"Wie oft stand schon der Mensch\n",
    "Am Abgrund seiner Welt\n",
    "Sah in seinem Leben keinen Sinn\n",
    "Und hat in seiner Not\n",
    "Die Götter angefleht\n",
    "und wußte vor Verzweiflung nicht wohin\n",
    "\n",
    "Der Himmel schwieg\n",
    "Kein Wunder ihm geschah\n",
    "Es hätte schon ein Zeichen ihm genügt\n",
    "Der Himmel schwieg\n",
    "Und war mehr fern als nah\n",
    "Hat ihn und seinen Glauben stumm besiegt\n",
    "\n",
    "Wie oft liege ich wach\n",
    "mit meinen Fragen\n",
    "Finde meinen Traum nicht mehr\n",
    "Die Sterne sind zu weit\n",
    "Die Erde scheint so kalt\n",
    "Und in mir wird es still und leer\n",
    "\n",
    "Der Himmel schweigt\n",
    "Is nicht für Wunder da\n",
    "Auch wenn du ihm das Licht verdankst\n",
    "Der Himmel schweigt\n",
    "Und ist mehr fern als nah\n",
    "Denn über Wolken wächst die Angst\n",
    "\n",
    "Alles ist Anfang\n",
    "Alles ist Ende\n",
    "Und wo bist du, Mensch\n",
    "\n",
    "Der Himmel schweigt...\n",
    "\"\"\""
   ]
  },
  {
   "cell_type": "code",
   "execution_count": 5,
   "metadata": {},
   "outputs": [
    {
     "data": {
      "text/plain": [
       "'Wie oft stand schon der Mensch\\nAm Abgrund seiner Welt\\nSah in seinem Leben keinen Sinn\\nUnd hat in seiner Not\\nDie Götter angefleht\\nund wußte vor Verzweiflung nicht wohin\\n\\nDer Himmel schwieg\\nKein Wunder ihm geschah\\nEs hätte schon ein Zeichen ihm genügt\\nDer Himmel schwieg\\nUnd war mehr fern als nah\\nHat ihn und seinen Glauben stumm besiegt\\n\\nWie oft liege ich wach\\nmit meinen Fragen\\nFinde meinen Traum nicht mehr\\nDie Sterne sind zu weit\\nDie Erde scheint so kalt\\nUnd in mir wird es still und leer\\n\\nDer Himmel schweigt\\nIs nicht für Wunder da\\nAuch wenn du ihm das Licht verdankst\\nDer Himmel schweigt\\nUnd ist mehr fern als nah\\nDenn über Wolken wächst die Angst\\n\\nAlles ist Anfang\\nAlles ist Ende\\nUnd wo bist du, Mensch\\n\\nDer Himmel schweigt...\\n'"
      ]
     },
     "execution_count": 5,
     "metadata": {},
     "output_type": "execute_result"
    }
   ],
   "source": [
    "text"
   ]
  },
  {
   "cell_type": "code",
   "execution_count": null,
   "metadata": {},
   "outputs": [],
   "source": []
  }
 ],
 "metadata": {
  "kernelspec": {
   "display_name": "Python 3",
   "language": "python",
   "name": "python3"
  },
  "language_info": {
   "codemirror_mode": {
    "name": "ipython",
    "version": 3
   },
   "file_extension": ".py",
   "mimetype": "text/x-python",
   "name": "python",
   "nbconvert_exporter": "python",
   "pygments_lexer": "ipython3",
   "version": "3.7.4"
  }
 },
 "nbformat": 4,
 "nbformat_minor": 2
}
