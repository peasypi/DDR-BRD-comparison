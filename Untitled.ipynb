{
 "cells": [
  {
   "cell_type": "code",
   "execution_count": 5,
   "metadata": {},
   "outputs": [],
   "source": [
    "text =\"\"\"So schön kann doch kein Mann sein,\n",
    "Dass ich ihm lange nachwein'.\n",
    "Nun schaust du mich mit treuen blauen Augen an. -\n",
    "Ein alter Trick, den ich Dir nicht mehr glauben kann -\n",
    "Nein, nein,\n",
    "So schön kann doch kein Mann sein,\n",
    "Dass ich ihm lange nachwein'.\n",
    "\n",
    "Ich hab mir längst schon meinen Reim darauf gemacht,\n",
    "Kommst Du mit roten Rosen mitten in der Nacht.\n",
    "Nein, nein -\n",
    "So schön kann doch kein Mann sein,\n",
    "Dass ich ihm lange nachwein'.\n",
    "\n",
    "Einsam ging der Abend vorbei.\n",
    "Wieder steht die Uhr auf halb drei.\n",
    "Damals standst Du dort bei der Tür\n",
    "Und ich weiß noch, ich sagte zu Dir:\n",
    "\n",
    "\n",
    "So schön kann doch kein Mann sein,\n",
    "Dass ich ihm lange nachwein'.\n",
    "Nun schaust du mich mit treuen blauen Augen an. -\n",
    "Ein alter Trick, den ich Dir nicht mehr glauben kann -\n",
    "Nein, nein,\n",
    "So schön kann doch kein Mann sein,\n",
    "Dass ich ihm lange nachwein'.\n",
    "\n",
    "Ich hab mir längst schon meinen Reim darauf gemacht,\n",
    "Kommst Du mit roten Rosen mitten in der Nacht.\n",
    "Nein, nein -\n",
    "So schön kann doch kein Mann sein,\n",
    "Dass ich ihm lange nachwein'.\n",
    "\n",
    "Warum rufst Du immer noch an,\n",
    "Sagst mir, dass man sich ändern kann.\n",
    "Das klingt wie ein schönes Gedicht.\n",
    "Doch ich glaub es Dir leider noch nicht.\n",
    "\n",
    "So schön kann doch kein Mann sein, usw.\"\"\""
   ]
  },
  {
   "cell_type": "code",
   "execution_count": 6,
   "metadata": {},
   "outputs": [
    {
     "data": {
      "text/plain": [
       "\"So schön kann doch kein Mann sein,\\nDass ich ihm lange nachwein'.\\nNun schaust du mich mit treuen blauen Augen an. -\\nEin alter Trick, den ich Dir nicht mehr glauben kann -\\nNein, nein,\\nSo schön kann doch kein Mann sein,\\nDass ich ihm lange nachwein'.\\n\\nIch hab mir längst schon meinen Reim darauf gemacht,\\nKommst Du mit roten Rosen mitten in der Nacht.\\nNein, nein -\\nSo schön kann doch kein Mann sein,\\nDass ich ihm lange nachwein'.\\n\\nEinsam ging der Abend vorbei.\\nWieder steht die Uhr auf halb drei.\\nDamals standst Du dort bei der Tür\\nUnd ich weiß noch, ich sagte zu Dir:\\n\\n\\nSo schön kann doch kein Mann sein,\\nDass ich ihm lange nachwein'.\\nNun schaust du mich mit treuen blauen Augen an. -\\nEin alter Trick, den ich Dir nicht mehr glauben kann -\\nNein, nein,\\nSo schön kann doch kein Mann sein,\\nDass ich ihm lange nachwein'.\\n\\nIch hab mir längst schon meinen Reim darauf gemacht,\\nKommst Du mit roten Rosen mitten in der Nacht.\\nNein, nein -\\nSo schön kann doch kein Mann sein,\\nDass ich ihm lange nachwein'.\\n\\nWarum rufst Du immer noch an,\\nSagst mir, dass man sich ändern kann.\\nDas klingt wie ein schönes Gedicht.\\nDoch ich glaub es Dir leider noch nicht.\\n\\nSo schön kann doch kein Mann sein, usw.\""
      ]
     },
     "execution_count": 6,
     "metadata": {},
     "output_type": "execute_result"
    }
   ],
   "source": [
    "text"
   ]
  },
  {
   "cell_type": "code",
   "execution_count": null,
   "metadata": {},
   "outputs": [],
   "source": []
  }
 ],
 "metadata": {
  "kernelspec": {
   "display_name": "Python 3",
   "language": "python",
   "name": "python3"
  },
  "language_info": {
   "codemirror_mode": {
    "name": "ipython",
    "version": 3
   },
   "file_extension": ".py",
   "mimetype": "text/x-python",
   "name": "python",
   "nbconvert_exporter": "python",
   "pygments_lexer": "ipython3",
   "version": "3.8.5"
  }
 },
 "nbformat": 4,
 "nbformat_minor": 4
}
